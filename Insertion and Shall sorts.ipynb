{
 "cells": [
  {
   "cell_type": "code",
   "execution_count": 1,
   "metadata": {},
   "outputs": [],
   "source": [
    "import random"
   ]
  },
  {
   "cell_type": "code",
   "execution_count": 2,
   "metadata": {},
   "outputs": [],
   "source": [
    "import time"
   ]
  },
  {
   "cell_type": "code",
   "execution_count": 3,
   "metadata": {},
   "outputs": [],
   "source": [
    "def insertionSort(arr):\n",
    "    for i in range(len(arr)):\n",
    "        x = arr[i]\n",
    "        j = i - 1\n",
    "        while j >= 0 and arr[j] > x:\n",
    "            arr[j+1] = arr[j]\n",
    "            j = j - 1\n",
    "        arr[j + 1] = x"
   ]
  },
  {
   "cell_type": "code",
   "execution_count": 4,
   "metadata": {},
   "outputs": [
    {
     "name": "stdout",
     "output_type": "stream",
     "text": [
      "--- 0.0 seconds ---\n",
      "--- 0.0 seconds ---\n",
      "--- 0.0010030269622802734 seconds ---\n",
      "--- 0.0010020732879638672 seconds ---\n",
      "--- 0.002005338668823242 seconds ---\n",
      "--- 0.013033628463745117 seconds ---\n",
      "--- 0.05013394355773926 seconds ---\n",
      "--- 0.20855402946472168 seconds ---\n",
      "--- 0.842238187789917 seconds ---\n",
      "--- 3.7229299545288086 seconds ---\n",
      "--- 14.95884895324707 seconds ---\n"
     ]
    }
   ],
   "source": [
    "# insertionSort on random array\n",
    "i = 20\n",
    "while i <= 20480:\n",
    "    a = [i for i in range(i)]\n",
    "    random.shuffle(a)\n",
    "    start_time = time.time()\n",
    "    insertionSort(a)\n",
    "    print(\"--- %s seconds ---\" % (time.time() - start_time))\n",
    "    i = i * 2"
   ]
  },
  {
   "cell_type": "code",
   "execution_count": 5,
   "metadata": {},
   "outputs": [
    {
     "name": "stdout",
     "output_type": "stream",
     "text": [
      "--- 0.0 seconds ---\n",
      "--- 0.0 seconds ---\n",
      "--- 0.0 seconds ---\n",
      "--- 0.0 seconds ---\n",
      "--- 0.0 seconds ---\n",
      "--- 0.0 seconds ---\n",
      "--- 0.0 seconds ---\n",
      "--- 0.0020046234130859375 seconds ---\n",
      "--- 0.010026693344116211 seconds ---\n",
      "--- 0.03609657287597656 seconds ---\n",
      "--- 0.1453864574432373 seconds ---\n"
     ]
    }
   ],
   "source": [
    "#insertionSort on array with 10% random values\n",
    "i = 20\n",
    "while i <= 20480:\n",
    "    a = [i for i in range(int(i - i * 0.1))]\n",
    "    b = [i for i in range(int(i - i * 0.1),i)]\n",
    "    random.shuffle(b)\n",
    "    merge = a + b\n",
    "    start_time = time.time()\n",
    "    insertionSort(merge)\n",
    "    print(\"--- %s seconds ---\" % (time.time() - start_time))\n",
    "    i = i * 2"
   ]
  },
  {
   "cell_type": "code",
   "execution_count": 6,
   "metadata": {},
   "outputs": [
    {
     "name": "stdout",
     "output_type": "stream",
     "text": [
      "--- 0.0 seconds ---\n",
      "--- 0.0 seconds ---\n",
      "--- 0.0 seconds ---\n",
      "--- 0.0 seconds ---\n",
      "--- 0.0 seconds ---\n",
      "--- 0.001001596450805664 seconds ---\n",
      "--- 0.0 seconds ---\n",
      "--- 0.0 seconds ---\n",
      "--- 0.0010023117065429688 seconds ---\n",
      "--- 0.0010037422180175781 seconds ---\n",
      "--- 0.0030078887939453125 seconds ---\n"
     ]
    }
   ],
   "source": [
    "#insertionSort on array with 5 random values\n",
    "i = 20\n",
    "while i <= 20480:\n",
    "    a = [i for i in range(i-5)]\n",
    "    b = [i for i in range(i-5,i)]\n",
    "    random.shuffle(b)\n",
    "    merge = a + b\n",
    "    start_time = time.time()\n",
    "    insertionSort(merge)\n",
    "    print(\"--- %s seconds ---\" % (time.time() - start_time))\n",
    "    i = i * 2"
   ]
  },
  {
   "cell_type": "code",
   "execution_count": 7,
   "metadata": {},
   "outputs": [],
   "source": [
    "#Standard shellSort with gap d = d/2 .....\n",
    "def shellSort(arr):\n",
    "    t = len(arr)// 2\n",
    "    while t > 0:\n",
    "        for i in range(len(a) - t):\n",
    "            j = i\n",
    "            while j >= 0 and arr[j] > arr[j + t]:\n",
    "                arr[j], arr[j+t] = arr[j+t], arr[j]\n",
    "                j = j - 1\n",
    "        t = t // 2"
   ]
  },
  {
   "cell_type": "code",
   "execution_count": 8,
   "metadata": {},
   "outputs": [
    {
     "name": "stdout",
     "output_type": "stream",
     "text": [
      "--- 0.0 seconds ---\n",
      "--- 0.0 seconds ---\n",
      "--- 0.0 seconds ---\n",
      "--- 0.0 seconds ---\n",
      "--- 0.0009813308715820312 seconds ---\n",
      "--- 0.005051612854003906 seconds ---\n",
      "--- 0.021055936813354492 seconds ---\n",
      "--- 0.07219123840332031 seconds ---\n",
      "--- 0.31383442878723145 seconds ---\n",
      "--- 1.213226318359375 seconds ---\n",
      "--- 4.671420574188232 seconds ---\n"
     ]
    }
   ],
   "source": [
    "#Standard shellSort on random array\n",
    "i = 20\n",
    "while i <= 20480:\n",
    "    a = [i for i in range(i)]\n",
    "    random.shuffle(a)\n",
    "    start_time = time.time()\n",
    "    shellSort(a)\n",
    "    print(\"--- %s seconds ---\" % (time.time() - start_time))\n",
    "    i = i * 2"
   ]
  },
  {
   "cell_type": "code",
   "execution_count": 48,
   "metadata": {},
   "outputs": [],
   "source": [
    "#shellSort thar use Knutt gap \n",
    "def shellSort2(arr):\n",
    "    t = 1\n",
    "    while t < len(arr) // 3:\n",
    "        t = 3 * t + 1\n",
    "    while t > 0:\n",
    "        for i in range(len(a) - t):\n",
    "            j = i\n",
    "            while j >= 0 and arr[j] > arr[j + t]:\n",
    "                arr[j], arr[j+t] = arr[j+t], arr[j]\n",
    "                j = j - 1\n",
    "        t  = int(t - t /3) "
   ]
  },
  {
   "cell_type": "code",
   "execution_count": 50,
   "metadata": {},
   "outputs": [
    {
     "name": "stdout",
     "output_type": "stream",
     "text": [
      "--- 0.0 seconds ---\n",
      "--- 0.0 seconds ---\n",
      "--- 0.0 seconds ---\n",
      "--- 0.0 seconds ---\n",
      "--- 0.0005013942718505859 seconds ---\n",
      "--- 0.001504659652709961 seconds ---\n",
      "--- 0.004511117935180664 seconds ---\n",
      "--- 0.01154184341430664 seconds ---\n",
      "--- 0.0240325927734375 seconds ---\n",
      "--- 0.055615901947021484 seconds ---\n",
      "--- 0.15412545204162598 seconds ---\n"
     ]
    }
   ],
   "source": [
    "#Knutt shellSort on random array\n",
    "i = 20\n",
    "while i <= 20480:\n",
    "    a = [i for i in range(i)]\n",
    "    random.shuffle(a)\n",
    "    start_time = time.time()\n",
    "    shellSort2(a)\n",
    "    print(\"--- %s seconds ---\" % (time.time() - start_time))\n",
    "    i = i * 2"
   ]
  },
  {
   "cell_type": "code",
   "execution_count": 53,
   "metadata": {},
   "outputs": [
    {
     "name": "stdout",
     "output_type": "stream",
     "text": [
      "--- 0.0 seconds ---\n",
      "--- 0.0 seconds ---\n",
      "--- 0.0 seconds ---\n",
      "--- 0.0010027885437011719 seconds ---\n",
      "--- 0.0 seconds ---\n",
      "--- 0.0010023117065429688 seconds ---\n",
      "--- 0.0010023117065429688 seconds ---\n",
      "--- 0.0020034313201904297 seconds ---\n",
      "--- 0.0060503482818603516 seconds ---\n",
      "--- 0.014037132263183594 seconds ---\n",
      "--- 0.02710413932800293 seconds ---\n"
     ]
    }
   ],
   "source": [
    "#Standard shellSort on 10% random values\n",
    "i = 20\n",
    "while i <= 20480:\n",
    "    a = [i for i in range(int(i - i * 0.1))]\n",
    "    b = [i for i in range(int(i - i * 0.1),i)]\n",
    "    random.shuffle(b)\n",
    "    merge = a + b\n",
    "    start_time = time.time()\n",
    "    shellSort(merge)\n",
    "    print(\"--- %s seconds ---\" % (time.time() - start_time))\n",
    "    i = i * 2"
   ]
  },
  {
   "cell_type": "code",
   "execution_count": 54,
   "metadata": {},
   "outputs": [
    {
     "name": "stdout",
     "output_type": "stream",
     "text": [
      "--- 0.0 seconds ---\n",
      "--- 0.0 seconds ---\n",
      "--- 0.0 seconds ---\n",
      "--- 0.0 seconds ---\n",
      "--- 0.0 seconds ---\n",
      "--- 0.0 seconds ---\n",
      "--- 0.002004861831665039 seconds ---\n",
      "--- 0.0030088424682617188 seconds ---\n",
      "--- 0.007018327713012695 seconds ---\n",
      "--- 0.01604318618774414 seconds ---\n",
      "--- 0.03211355209350586 seconds ---\n"
     ]
    }
   ],
   "source": [
    "#Standard shellSort on 5 random array\n",
    "i = 20\n",
    "while i <= 20480:\n",
    "    a = [i for i in range(i-5)]\n",
    "    b = [i for i in range(i-5,i)]\n",
    "    random.shuffle(b)\n",
    "    merge = a + b\n",
    "    start_time = time.time()\n",
    "    shellSort(merge)\n",
    "    print(\"--- %s seconds ---\" % (time.time() - start_time))\n",
    "    i = i * 2"
   ]
  },
  {
   "cell_type": "code",
   "execution_count": 55,
   "metadata": {},
   "outputs": [
    {
     "name": "stdout",
     "output_type": "stream",
     "text": [
      "--- 0.0 seconds ---\n",
      "--- 0.0 seconds ---\n",
      "--- 0.0 seconds ---\n",
      "--- 0.0 seconds ---\n",
      "--- 0.0 seconds ---\n",
      "--- 0.0 seconds ---\n",
      "--- 0.0020101070404052734 seconds ---\n",
      "--- 0.005011558532714844 seconds ---\n",
      "--- 0.00899362564086914 seconds ---\n",
      "--- 0.021045684814453125 seconds ---\n",
      "--- 0.0451507568359375 seconds ---\n"
     ]
    }
   ],
   "source": [
    "#Knutt shellSort on 10% RANDOM VALUES\n",
    "i = 20\n",
    "while i <= 20480:\n",
    "    a = [i for i in range(int(i - i * 0.1))]\n",
    "    b = [i for i in range(int(i - i * 0.1),i)]\n",
    "    random.shuffle(b)\n",
    "    merge = a + b\n",
    "    start_time = time.time()\n",
    "    shellSort2(merge)\n",
    "    print(\"--- %s seconds ---\" % (time.time() - start_time))\n",
    "    i = i * 2"
   ]
  },
  {
   "cell_type": "code",
   "execution_count": 57,
   "metadata": {},
   "outputs": [
    {
     "name": "stdout",
     "output_type": "stream",
     "text": [
      "--- 0.0 seconds ---\n",
      "--- 0.0 seconds ---\n",
      "--- 0.0 seconds ---\n",
      "--- 0.0 seconds ---\n",
      "--- 0.0 seconds ---\n",
      "--- 0.0010025501251220703 seconds ---\n",
      "--- 0.0030074119567871094 seconds ---\n",
      "--- 0.004010915756225586 seconds ---\n",
      "--- 0.012032508850097656 seconds ---\n",
      "--- 0.023099899291992188 seconds ---\n",
      "--- 0.04515242576599121 seconds ---\n"
     ]
    }
   ],
   "source": [
    "#Knutt shellSort on 5 RANDOM VALUES\n",
    "i = 20\n",
    "while i <= 20480:\n",
    "    a = [i for i in range(i-5)]\n",
    "    b = [i for i in range(i-5,i)]\n",
    "    random.shuffle(b)\n",
    "    merge = a + b\n",
    "    start_time = time.time()\n",
    "    shellSort2(merge)\n",
    "    print(\"--- %s seconds ---\" % (time.time() - start_time))\n",
    "    i = i * 2"
   ]
  },
  {
   "cell_type": "code",
   "execution_count": null,
   "metadata": {},
   "outputs": [],
   "source": []
  }
 ],
 "metadata": {
  "kernelspec": {
   "display_name": "Python 3",
   "language": "python",
   "name": "python3"
  },
  "language_info": {
   "codemirror_mode": {
    "name": "ipython",
    "version": 3
   },
   "file_extension": ".py",
   "mimetype": "text/x-python",
   "name": "python",
   "nbconvert_exporter": "python",
   "pygments_lexer": "ipython3",
   "version": "3.7.3"
  }
 },
 "nbformat": 4,
 "nbformat_minor": 2
}
